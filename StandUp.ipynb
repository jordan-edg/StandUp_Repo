{
 "cells": [
  {
   "cell_type": "code",
   "execution_count": 1,
   "id": "74eec369",
   "metadata": {},
   "outputs": [],
   "source": [
    "import pandas as pd\n",
    "import os\n",
    "from openai import OpenAI"
   ]
  },
  {
   "cell_type": "code",
   "execution_count": 4,
   "id": "46ae06c8",
   "metadata": {},
   "outputs": [
    {
     "name": "stdout",
     "output_type": "stream",
     "text": [
      "Shape: (1175, 1543)\n",
      "Columns: ['0', '1', '2', '3', '4', '5', '6', '7', '8', '9', '10', '11', '12', '13', '14', '15', '16', '17', '18', '19', '20', '21', '22', '23', '24', '25', '26', '27', '28', '29', '30', '31', '32', '33', '34', '35', '36', '37', '38', '39', '40', '41', '42', '43', '44', '45', '46', '47', '48', '49', '50', '51', '52', '53', '54', '55', '56', '57', '58', '59', '60', '61', '62', '63', '64', '65', '66', '67', '68', '69', '70', '71', '72', '73', '74', '75', '76', '77', '78', '79', '80', '81', '82', '83', '84', '85', '86', '87', '88', '89', '90', '91', '92', '93', '94', '95', '96', '97', '98', '99', '100', '101', '102', '103', '104', '105', '106', '107', '108', '109', '110', '111', '112', '113', '114', '115', '116', '117', '118', '119', '120', '121', '122', '123', '124', '125', '126', '127', '128', '129', '130', '131', '132', '133', '134', '135', '136', '137', '138', '139', '140', '141', '142', '143', '144', '145', '146', '147', '148', '149', '150', '151', '152', '153', '154', '155', '156', '157', '158', '159', '160', '161', '162', '163', '164', '165', '166', '167', '168', '169', '170', '171', '172', '173', '174', '175', '176', '177', '178', '179', '180', '181', '182', '183', '184', '185', '186', '187', '188', '189', '190', '191', '192', '193', '194', '195', '196', '197', '198', '199', '200', '201', '202', '203', '204', '205', '206', '207', '208', '209', '210', '211', '212', '213', '214', '215', '216', '217', '218', '219', '220', '221', '222', '223', '224', '225', '226', '227', '228', '229', '230', '231', '232', '233', '234', '235', '236', '237', '238', '239', '240', '241', '242', '243', '244', '245', '246', '247', '248', '249', '250', '251', '252', '253', '254', '255', '256', '257', '258', '259', '260', '261', '262', '263', '264', '265', '266', '267', '268', '269', '270', '271', '272', '273', '274', '275', '276', '277', '278', '279', '280', '281', '282', '283', '284', '285', '286', '287', '288', '289', '290', '291', '292', '293', '294', '295', '296', '297', '298', '299', '300', '301', '302', '303', '304', '305', '306', '307', '308', '309', '310', '311', '312', '313', '314', '315', '316', '317', '318', '319', '320', '321', '322', '323', '324', '325', '326', '327', '328', '329', '330', '331', '332', '333', '334', '335', '336', '337', '338', '339', '340', '341', '342', '343', '344', '345', '346', '347', '348', '349', '350', '351', '352', '353', '354', '355', '356', '357', '358', '359', '360', '361', '362', '363', '364', '365', '366', '367', '368', '369', '370', '371', '372', '373', '374', '375', '376', '377', '378', '379', '380', '381', '382', '383', '384', '385', '386', '387', '388', '389', '390', '391', '392', '393', '394', '395', '396', '397', '398', '399', '400', '401', '402', '403', '404', '405', '406', '407', '408', '409', '410', '411', '412', '413', '414', '415', '416', '417', '418', '419', '420', '421', '422', '423', '424', '425', '426', '427', '428', '429', '430', '431', '432', '433', '434', '435', '436', '437', '438', '439', '440', '441', '442', '443', '444', '445', '446', '447', '448', '449', '450', '451', '452', '453', '454', '455', '456', '457', '458', '459', '460', '461', '462', '463', '464', '465', '466', '467', '468', '469', '470', '471', '472', '473', '474', '475', '476', '477', '478', '479', '480', '481', '482', '483', '484', '485', '486', '487', '488', '489', '490', '491', '492', '493', '494', '495', '496', '497', '498', '499', '500', '501', '502', '503', '504', '505', '506', '507', '508', '509', '510', '511', '512', '513', '514', '515', '516', '517', '518', '519', '520', '521', '522', '523', '524', '525', '526', '527', '528', '529', '530', '531', '532', '533', '534', '535', '536', '537', '538', '539', '540', '541', '542', '543', '544', '545', '546', '547', '548', '549', '550', '551', '552', '553', '554', '555', '556', '557', '558', '559', '560', '561', '562', '563', '564', '565', '566', '567', '568', '569', '570', '571', '572', '573', '574', '575', '576', '577', '578', '579', '580', '581', '582', '583', '584', '585', '586', '587', '588', '589', '590', '591', '592', '593', '594', '595', '596', '597', '598', '599', '600', '601', '602', '603', '604', '605', '606', '607', '608', '609', '610', '611', '612', '613', '614', '615', '616', '617', '618', '619', '620', '621', '622', '623', '624', '625', '626', '627', '628', '629', '630', '631', '632', '633', '634', '635', '636', '637', '638', '639', '640', '641', '642', '643', '644', '645', '646', '647', '648', '649', '650', '651', '652', '653', '654', '655', '656', '657', '658', '659', '660', '661', '662', '663', '664', '665', '666', '667', '668', '669', '670', '671', '672', '673', '674', '675', '676', '677', '678', '679', '680', '681', '682', '683', '684', '685', '686', '687', '688', '689', '690', '691', '692', '693', '694', '695', '696', '697', '698', '699', '700', '701', '702', '703', '704', '705', '706', '707', '708', '709', '710', '711', '712', '713', '714', '715', '716', '717', '718', '719', '720', '721', '722', '723', '724', '725', '726', '727', '728', '729', '730', '731', '732', '733', '734', '735', '736', '737', '738', '739', '740', '741', '742', '743', '744', '745', '746', '747', '748', '749', '750', '751', '752', '753', '754', '755', '756', '757', '758', '759', '760', '761', '762', '763', '764', '765', '766', '767', '768', '769', '770', '771', '772', '773', '774', '775', '776', '777', '778', '779', '780', '781', '782', '783', '784', '785', '786', '787', '788', '789', '790', '791', '792', '793', '794', '795', '796', '797', '798', '799', '800', '801', '802', '803', '804', '805', '806', '807', '808', '809', '810', '811', '812', '813', '814', '815', '816', '817', '818', '819', '820', '821', '822', '823', '824', '825', '826', '827', '828', '829', '830', '831', '832', '833', '834', '835', '836', '837', '838', '839', '840', '841', '842', '843', '844', '845', '846', '847', '848', '849', '850', '851', '852', '853', '854', '855', '856', '857', '858', '859', '860', '861', '862', '863', '864', '865', '866', '867', '868', '869', '870', '871', '872', '873', '874', '875', '876', '877', '878', '879', '880', '881', '882', '883', '884', '885', '886', '887', '888', '889', '890', '891', '892', '893', '894', '895', '896', '897', '898', '899', '900', '901', '902', '903', '904', '905', '906', '907', '908', '909', '910', '911', '912', '913', '914', '915', '916', '917', '918', '919', '920', '921', '922', '923', '924', '925', '926', '927', '928', '929', '930', '931', '932', '933', '934', '935', '936', '937', '938', '939', '940', '941', '942', '943', '944', '945', '946', '947', '948', '949', '950', '951', '952', '953', '954', '955', '956', '957', '958', '959', '960', '961', '962', '963', '964', '965', '966', '967', '968', '969', '970', '971', '972', '973', '974', '975', '976', '977', '978', '979', '980', '981', '982', '983', '984', '985', '986', '987', '988', '989', '990', '991', '992', '993', '994', '995', '996', '997', '998', '999', '1000', '1001', '1002', '1003', '1004', '1005', '1006', '1007', '1008', '1009', '1010', '1011', '1012', '1013', '1014', '1015', '1016', '1017', '1018', '1019', '1020', '1021', '1022', '1023', '1024', '1025', '1026', '1027', '1028', '1029', '1030', '1031', '1032', '1033', '1034', '1035', '1036', '1037', '1038', '1039', '1040', '1041', '1042', '1043', '1044', '1045', '1046', '1047', '1048', '1049', '1050', '1051', '1052', '1053', '1054', '1055', '1056', '1057', '1058', '1059', '1060', '1061', '1062', '1063', '1064', '1065', '1066', '1067', '1068', '1069', '1070', '1071', '1072', '1073', '1074', '1075', '1076', '1077', '1078', '1079', '1080', '1081', '1082', '1083', '1084', '1085', '1086', '1087', '1088', '1089', '1090', '1091', '1092', '1093', '1094', '1095', '1096', '1097', '1098', '1099', '1100', '1101', '1102', '1103', '1104', '1105', '1106', '1107', '1108', '1109', '1110', '1111', '1112', '1113', '1114', '1115', '1116', '1117', '1118', '1119', '1120', '1121', '1122', '1123', '1124', '1125', '1126', '1127', '1128', '1129', '1130', '1131', '1132', '1133', '1134', '1135', '1136', '1137', '1138', '1139', '1140', '1141', '1142', '1143', '1144', '1145', '1146', '1147', '1148', '1149', '1150', '1151', '1152', '1153', '1154', '1155', '1156', '1157', '1158', '1159', '1160', '1161', '1162', '1163', '1164', '1165', '1166', '1167', '1168', '1169', '1170', '1171', '1172', '1173', '1174', '1175', '1176', '1177', '1178', '1179', '1180', '1181', '1182', '1183', '1184', '1185', '1186', '1187', '1188', '1189', '1190', '1191', '1192', '1193', '1194', '1195', '1196', '1197', '1198', '1199', '1200', '1201', '1202', '1203', '1204', '1205', '1206', '1207', '1208', '1209', '1210', '1211', '1212', '1213', '1214', '1215', '1216', '1217', '1218', '1219', '1220', '1221', '1222', '1223', '1224', '1225', '1226', '1227', '1228', '1229', '1230', '1231', '1232', '1233', '1234', '1235', '1236', '1237', '1238', '1239', '1240', '1241', '1242', '1243', '1244', '1245', '1246', '1247', '1248', '1249', '1250', '1251', '1252', '1253', '1254', '1255', '1256', '1257', '1258', '1259', '1260', '1261', '1262', '1263', '1264', '1265', '1266', '1267', '1268', '1269', '1270', '1271', '1272', '1273', '1274', '1275', '1276', '1277', '1278', '1279', '1280', '1281', '1282', '1283', '1284', '1285', '1286', '1287', '1288', '1289', '1290', '1291', '1292', '1293', '1294', '1295', '1296', '1297', '1298', '1299', '1300', '1301', '1302', '1303', '1304', '1305', '1306', '1307', '1308', '1309', '1310', '1311', '1312', '1313', '1314', '1315', '1316', '1317', '1318', '1319', '1320', '1321', '1322', '1323', '1324', '1325', '1326', '1327', '1328', '1329', '1330', '1331', '1332', '1333', '1334', '1335', '1336', '1337', '1338', '1339', '1340', '1341', '1342', '1343', '1344', '1345', '1346', '1347', '1348', '1349', '1350', '1351', '1352', '1353', '1354', '1355', '1356', '1357', '1358', '1359', '1360', '1361', '1362', '1363', '1364', '1365', '1366', '1367', '1368', '1369', '1370', '1371', '1372', '1373', '1374', '1375', '1376', '1377', '1378', '1379', '1380', '1381', '1382', '1383', '1384', '1385', '1386', '1387', '1388', '1389', '1390', '1391', '1392', '1393', '1394', '1395', '1396', '1397', '1398', '1399', '1400', '1401', '1402', '1403', '1404', '1405', '1406', '1407', '1408', '1409', '1410', '1411', '1412', '1413', '1414', '1415', '1416', '1417', '1418', '1419', '1420', '1421', '1422', '1423', '1424', '1425', '1426', '1427', '1428', '1429', '1430', '1431', '1432', '1433', '1434', '1435', '1436', '1437', '1438', '1439', '1440', '1441', '1442', '1443', '1444', '1445', '1446', '1447', '1448', '1449', '1450', '1451', '1452', '1453', '1454', '1455', '1456', '1457', '1458', '1459', '1460', '1461', '1462', '1463', '1464', '1465', '1466', '1467', '1468', '1469', '1470', '1471', '1472', '1473', '1474', '1475', '1476', '1477', '1478', '1479', '1480', '1481', '1482', '1483', '1484', '1485', '1486', '1487', '1488', '1489', '1490', '1491', '1492', '1493', '1494', '1495', '1496', '1497', '1498', '1499', '1500', '1501', '1502', '1503', '1504', '1505', '1506', '1507', '1508', '1509', '1510', '1511', '1512', '1513', '1514', '1515', '1516', '1517', '1518', '1519', '1520', '1521', '1522', '1523', '1524', '1525', '1526', '1527', '1528', '1529', '1530', '1531', '1532', '1533', '1534', '1535', 'id', 'title', 'section', 'heading', 'content', 'url', 'category']\n",
      "<bound method NDFrame.head of              0         1         2         3         4         5         6  \\\n",
      "0    -0.017800 -0.005056  0.023964 -0.033802  0.003952  0.014686 -0.015012   \n",
      "1    -0.020319 -0.015923  0.019365 -0.014646 -0.001085  0.007284 -0.015948   \n",
      "2    -0.016071 -0.007583 -0.001029 -0.010051 -0.006182  0.015800 -0.020347   \n",
      "3     0.004635  0.004765  0.012514 -0.005445  0.013180  0.028719 -0.017010   \n",
      "4    -0.003886  0.003766  0.000147 -0.022970  0.019770  0.010328 -0.015002   \n",
      "...        ...       ...       ...       ...       ...       ...       ...   \n",
      "1170 -0.017539  0.002116 -0.004009 -0.022919 -0.020842  0.018125 -0.009482   \n",
      "1171  0.002831 -0.022543  0.002156 -0.026540 -0.015501 -0.002366 -0.006824   \n",
      "1172 -0.011544 -0.027088 -0.013207 -0.002049 -0.007940  0.022613 -0.010112   \n",
      "1173 -0.017697 -0.011399 -0.008152 -0.011444 -0.004314  0.014899 -0.016734   \n",
      "1174 -0.026462 -0.008135  0.023094 -0.046036 -0.012541  0.014649 -0.026867   \n",
      "\n",
      "             7         8         9  ...      1533      1534      1535    id  \\\n",
      "0    -0.002605 -0.035575 -0.032056  ...  0.018856 -0.030362  0.005506   274   \n",
      "1    -0.007194 -0.030427 -0.022150  ...  0.002211 -0.022743 -0.010404   275   \n",
      "2     0.001606 -0.018771 -0.006905  ...  0.021096 -0.033718  0.002706   276   \n",
      "3    -0.020540 -0.020313 -0.028958  ...  0.011569 -0.032555  0.003145   277   \n",
      "4    -0.035973  0.008247 -0.013990  ...  0.008329 -0.013977 -0.006780   278   \n",
      "...        ...       ...       ...  ...       ...       ...       ...   ...   \n",
      "1170  0.006169 -0.023985 -0.034385  ... -0.009782  0.003289 -0.010760  1226   \n",
      "1171 -0.007922 -0.014547 -0.008002  ...  0.002950  0.000174 -0.007141  1227   \n",
      "1172  0.004831 -0.027457 -0.028117  ... -0.000705 -0.019682  0.002721  1228   \n",
      "1173  0.002454 -0.031438 -0.017476  ... -0.001584 -0.010820  0.003308  1229   \n",
      "1174 -0.000817 -0.012927  0.002662  ...  0.018131 -0.027399 -0.012794  1230   \n",
      "\n",
      "                  title      section  \\\n",
      "0     Equality Act 2010      s.13(1)   \n",
      "1     Equality Act 2010      s.15(1)   \n",
      "2     Equality Act 2010      s.20(1)   \n",
      "3     Equality Act 2010      s.20(2)   \n",
      "4     Equality Act 2010      s.20(6)   \n",
      "...                 ...          ...   \n",
      "1170   Housing Act 1980  s.75(3)(4A)   \n",
      "1171   Housing Act 1980  s.75(3)(4B)   \n",
      "1172   Housing Act 1980      s.76(1)   \n",
      "1173   Housing Act 1980      s.76(3)   \n",
      "1174   Housing Act 1980      s.76(4)   \n",
      "\n",
      "                                                heading  \\\n",
      "0                                 Direct Discrimination   \n",
      "1                Discrimination Arising from Disability   \n",
      "2                              Duty to Make Adjustments   \n",
      "3                              Duty to Make Adjustments   \n",
      "4                              Duty to Make Adjustments   \n",
      "...                                                 ...   \n",
      "1170  Proceedings for possession of certain dwelling...   \n",
      "1171  Proceedings for possession of certain dwelling...   \n",
      "1172                  Statutory tenancies by succession   \n",
      "1173                  Statutory tenancies by succession   \n",
      "1174                  Statutory tenancies by succession   \n",
      "\n",
      "                                                content  \\\n",
      "0     (1)A person (A) discriminates against another ...   \n",
      "1     A person (A) discriminates against a disabled ...   \n",
      "2     Where this Act imposes a duty to make reasonab...   \n",
      "3     The duty comprises the following three require...   \n",
      "4     Where the first or third requirement relates t...   \n",
      "...                                                 ...   \n",
      "1170  (4A) Subsection (4B) below applies in any case...   \n",
      "1171  (4B) In any case to which this subsection appl...   \n",
      "1172  (1) In Schedule 1 to the 1977 Act, for paragra...   \n",
      "1173  (3) In sections 3(3)(a) and 4(4)(a) of the Ren...   \n",
      "1174  (4) The amendments made by this section have e...   \n",
      "\n",
      "                                                    url  \\\n",
      "0     https://www.legislation.gov.uk/ukpga/2010/15/p...   \n",
      "1     https://www.legislation.gov.uk/ukpga/2010/15/p...   \n",
      "2     https://www.legislation.gov.uk/ukpga/2010/15/p...   \n",
      "3     https://www.legislation.gov.uk/ukpga/2010/15/p...   \n",
      "4     https://www.legislation.gov.uk/ukpga/2010/15/p...   \n",
      "...                                                 ...   \n",
      "1170  https://www.legislation.gov.uk/ukpga/1980/51/s...   \n",
      "1171  https://www.legislation.gov.uk/ukpga/1980/51/s...   \n",
      "1172  https://www.legislation.gov.uk/ukpga/1980/51/s...   \n",
      "1173  https://www.legislation.gov.uk/ukpga/1980/51/s...   \n",
      "1174  https://www.legislation.gov.uk/ukpga/1980/51/s...   \n",
      "\n",
      "                                   category  \n",
      "0          Accessibility and Discrimination  \n",
      "1          Accessibility and Discrimination  \n",
      "2          Accessibility and Discrimination  \n",
      "3          Accessibility and Discrimination  \n",
      "4          Accessibility and Discrimination  \n",
      "...                                     ...  \n",
      "1170  Tenancy, Transfers, Rent and Eviction  \n",
      "1171  Tenancy, Transfers, Rent and Eviction  \n",
      "1172  Tenancy, Transfers, Rent and Eviction  \n",
      "1173  Tenancy, Transfers, Rent and Eviction  \n",
      "1174  Tenancy, Transfers, Rent and Eviction  \n",
      "\n",
      "[1175 rows x 1543 columns]>\n"
     ]
    }
   ],
   "source": [
    "embeddings = pd.read_parquet(\"StandUp_Embeddings_Final.parquet\")\n",
    "\n",
    "print(\"Shape:\", embeddings.shape)\n",
    "print(\"Columns:\", embeddings.columns.tolist())\n",
    "\n",
    "print(embeddings.head)\n",
    "\n",
    "embeddings_df = pd.DataFrame(embeddings)"
   ]
  },
  {
   "cell_type": "code",
   "execution_count": 5,
   "id": "0c96078d",
   "metadata": {},
   "outputs": [],
   "source": [
    "# Adding and defining Chroma lists\n",
    "\n",
    "ids = embeddings_df[\"id\"].astype(str).tolist()\n",
    "\n",
    "titles = embeddings_df[\"title\"].tolist()\n",
    "\n",
    "contents = embeddings_df[\"content\"].tolist()\n",
    "\n",
    "vector_cols = [str(i) for i in range(1536)]\n",
    "\n",
    "embeddings = embeddings_df[vector_cols].values.tolist()\n",
    "\n",
    "metadatas = embeddings_df[[\"title\", \"section\", \"heading\", \"content\"]].to_dict(orient= 'records')\n"
   ]
  },
  {
   "cell_type": "code",
   "execution_count": 6,
   "id": "cb08d617",
   "metadata": {},
   "outputs": [],
   "source": [
    "# Using Chroma to build vector storage\n",
    "\n",
    "import chromadb\n",
    "\n",
    "client = chromadb.Client()\n",
    "collection = client.get_or_create_collection(\"StandUp\")\n"
   ]
  },
  {
   "cell_type": "code",
   "execution_count": 7,
   "id": "28a05264",
   "metadata": {},
   "outputs": [],
   "source": [
    "collection.add(\n",
    "    ids=ids,\n",
    "    embeddings=embeddings,\n",
    "    metadatas=metadatas,\n",
    "    documents=contents\n",
    ")"
   ]
  },
  {
   "cell_type": "code",
   "execution_count": 8,
   "id": "df3918a9",
   "metadata": {},
   "outputs": [],
   "source": [
    "\n",
    "client = OpenAI(api_key=os.getenv(\"OPENAI_API_KEY\"))\n",
    "\n",
    "def embed_query(text:str) -> list[float]:\n",
    "    resp = client.embeddings.create(\n",
    "        model = \"text-embedding-ada-002\",\n",
    "        input = [text]\n",
    "    )\n",
    "    return resp.data[0].embedding\n",
    "\n",
    "test_query = \"My landlord was served an improvement notice, what does this mean and when does it start?\"\n",
    "\n",
    "query_vector = embed_query(test_query)\n",
    "\n"
   ]
  },
  {
   "cell_type": "code",
   "execution_count": 9,
   "id": "5c2a7c60",
   "metadata": {},
   "outputs": [
    {
     "name": "stdout",
     "output_type": "stream",
     "text": [
      "Statute ID: 613\n",
      " Title and Section: Housing Act 1988 s.14(3) \n",
      " Statute Heading: Determination of rent by tribunal \n",
      " Statute Content: For the purposes of subsection (2)(b) above, in relation to a notice which is referred by a tenant as mentioned in subsection (1) above, an improvement is a relevant improvement if either it was carried out during the tenancy to which the notice relates or the following conditions are satisfied, namelyâ (a) that it was carried out not more than twenty-one years before the date of service of the notice; and (b) that, at all times during the period beginning when the improvement was carried out and ending on the date of service of the notice, the dwelling-house has been let under an assured tenancy; and (c) that, on the coming to an end of an assured tenancy at any time during that period, the tenant (or, in the case of joint tenants, at least one of them) did not quit. \n",
      " Distance: 0.26659783720970154\n",
      "Statute ID: 730\n",
      " Title and Section: Housing Act 2004 s.15(2) \n",
      " Statute Heading: Operation of improvement notices \n",
      " Statute Content: The general rule is that an improvement notice becomes operative at the end of the period of 21 days beginning with the day on which it is served under Part 1 of Schedule 1 (which is the period for appealing against the notice under Part 3 of that Schedule). \n",
      " Distance: 0.27867498993873596\n",
      "Statute ID: 729\n",
      " Title and Section: Housing Act 2004 s.15(1) \n",
      " Statute Heading: Operation of improvement notices \n",
      " Statute Content: This section deals with the time when an improvement notice becomes operative. \n",
      " Distance: 0.2867719531059265\n",
      "Statute ID: 1000\n",
      " Title and Section: Housing Act 1985 s.125(4) \n",
      " Statute Heading: Landlordâs notice of purchase price and other matters \n",
      " Statute Content: Where the notice states provisions which would enable the landlord to recover from the tenantâ (a) service charges, or (b) improvement contributions, the notice shall also contain the estimates and other information required by section 125A (service charges) or 125B (improvement contributions). \n",
      " Distance: 0.30295589566230774\n",
      "Statute ID: 565\n",
      " Title and Section: Housing Act 1988 s.8(3) \n",
      " Statute Heading: Notice of proceedings for possession \n",
      " Statute Content: A notice under this section is one in the prescribed form informing the tenant thatâ (a) the landlord intends to begin proceedings for possession of the dwelling-house on one or more of the grounds specified in the notice; and (b) those proceedings will not begin earlier than a date specified in the notice in accordance with subsections (3A) to (4B) below; and (c) those proceedings will not begin later than twelve months from the date of service of the notice. \n",
      " Distance: 0.31017088890075684\n",
      "Statute ID: 604\n",
      " Title and Section: Housing Act 1988 s.13(2) \n",
      " Statute Heading: Increases of rent under assured periodic tenancies \n",
      " Statute Content: For the purpose of securing an increase in the rent under a tenancy to which this section applies, the landlord may serve on the tenant a notice in the prescribed form proposing a new rent to take effect at the beginning of a new period of the tenancy specified in the notice, being a period beginning not earlier thanâ (a) the minimum period after the date of the service of the notice; and (b) except in the case of a statutory periodic tenancyâ    (i) in the case of an assured agricultural occupancy, the first anniversary of the date on which the first period of the tenancy began; or    (ii) in any other case, on the date that falls 52 weeks after the date on which the first period of the tenancy began. \n",
      " Distance: 0.3114214539527893\n",
      "Statute ID: 535\n",
      " Title and Section: Housing Act 1988 s.6(2) \n",
      " Statute Heading: Fixing of terms of statutory periodic tenancy \n",
      " Statute Content: Not later than the first anniversary of the day on which the former tenancy came to an end, the landlord may serve on the tenant, or the tenant may serve on the landlord, a notice in the prescribed form proposing terms of the statutory periodic tenancy different from the implied terms and, if the landlord or the tenant considers it appropriate, proposing an adjustment of the amount of the rent to take account of the proposed terms. \n",
      " Distance: 0.31647923588752747\n",
      "Statute ID: 848\n",
      " Title and Section: Housing Act 1985 s.25(4) \n",
      " Statute Heading: Increase of rent where tenancy not secure \n",
      " Statute Content: Where the notice is given for the beginning of a rental period and the tenancy continues into that period, the notice shall not have effect ifâ  (a) the tenancy is terminated by notice to quit given by the tenant in accordance with the provisions (express or implied) of the tenancy, (b) the notice to quit is given before the end of the period of two weeks following the date on which the notice of increase is given, or such longer period as may be allowed by the notice of increase, and (c) the date on which the tenancy is made to terminate is not later than the earliest day on which the tenancy could be terminated by a notice to quit given by the tenant on the last day of that period. \n",
      " Distance: 0.3256881535053253\n",
      "Statute ID: 571\n",
      " Title and Section: Housing Act 1988 s.8(4D) \n",
      " Statute Heading: Notice of proceedings for possession \n",
      " Statute Content: Where the landlord proposes to rely on conditionÂ 1,Â 3 orÂ 5 in GroundÂ 7A, the notice must be served on the tenant withinâ (a) the period of 12Â months beginning with the day of the conviction, or (b) if there is an appeal against the conviction, the period ofÂ 12Â months beginning with the day on which the appeal is finally determined or abandoned. \n",
      " Distance: 0.3257087767124176\n",
      "Statute ID: 572\n",
      " Title and Section: Housing Act 1988 s.8(4E) \n",
      " Statute Heading: Notice of proceedings for possession \n",
      " Statute Content: Where the landlord proposes to rely on conditionÂ 2 in GroundÂ 7A, the notice must be served on the tenant withinâ (a) the period ofÂ 12Â months beginning with the day on which the court has made the finding, or (b) if there is an appeal against the finding, the period ofÂ 12Â months beginning with the day on which the appeal is finally determined, abandoned or withdrawn. \n",
      " Distance: 0.3270193338394165\n"
     ]
    }
   ],
   "source": [
    "# The million dollar question! Will the program return the relevant laws and statutes\n",
    "\n",
    "\n",
    "results = collection.query(\n",
    "    query_embeddings=[query_vector], n_results = 10\n",
    ")\n",
    "\n",
    "# Match the id with title/section, since Chroma's metadata function did not work. The 'Title and Section' was always the first row of the dataset.\n",
    "\n",
    "meta_lookup = {}\n",
    "\n",
    "for _, row in embeddings_df.iterrows():\n",
    "    statute_id = str(row[\"id\"])\n",
    "    meta_lookup[statute_id] = {\n",
    "        \"title\": row[\"title\"],\n",
    "        \"section\": row[\"section\"],\n",
    "        \"heading\": row[\"heading\"],\n",
    "        \"content\": row[\"content\"]\n",
    "    }\n",
    "\n",
    "\n",
    "matched_ids = results[\"ids\"][0]\n",
    "matched_docs = results[\"documents\"][0]\n",
    "distances = results[\"distances\"][0]\n",
    "\n",
    "for sid, docs, dist in zip(matched_ids, matched_docs, distances):\n",
    "    data = meta_lookup[sid]\n",
    "    print(f\"Statute ID: {sid}\\n Title and Section: {data[\"title\"]} {data[\"section\"]} \\n Statute Heading: {data[\"heading\"]} \\n Statute Content: {docs} \\n Distance: {dist}\")\n",
    "\n"
   ]
  },
  {
   "cell_type": "code",
   "execution_count": 10,
   "id": "aa99b0cd",
   "metadata": {},
   "outputs": [],
   "source": [
    "# Creating an algorithm that logs the results into a csv for evaluation\n",
    "\n",
    "query_id_list = []\n",
    "statute_id_list = []\n",
    "title_list = []\n",
    "section_list = []\n",
    "heading_list = []\n",
    "content_list = []\n",
    "distance_list = []\n",
    "\n",
    "query_id = \"6\"\n",
    "\n",
    "for sid, docs, dist in zip(matched_ids, matched_docs, distances):\n",
    "    statute_id_str = str(sid)\n",
    "    data = meta_lookup[statute_id_str]\n",
    "    query_id_list.append(query_id)\n",
    "    statute_id_list.append(statute_id_str)\n",
    "    title_list.append(data.get(\"title\", \" \"))\n",
    "    section_list.append(data.get(\"section\", \" \"))\n",
    "    heading_list.append(data.get(\"heading\", \" \"))\n",
    "    content_list.append(docs)\n",
    "    distance_list.append(dist)\n",
    "    "
   ]
  },
  {
   "cell_type": "code",
   "execution_count": 11,
   "id": "a513b7f8",
   "metadata": {},
   "outputs": [],
   "source": [
    "# Creating a dataframe for all results\n",
    "eval_df_6 = pd.DataFrame(list(zip(query_id_list, statute_id_list, title_list, section_list, heading_list, content_list, distance_list)),columns = [\"query_id\", \"statute_id\", \"title_list\", \"section_list\", \"heading_list\", \"content_list\", \"distance_list\"])\n",
    "\n"
   ]
  },
  {
   "cell_type": "code",
   "execution_count": 181,
   "id": "d533e171",
   "metadata": {},
   "outputs": [],
   "source": [
    "df_1 = pd.DataFrame(eval_df_1)\n"
   ]
  },
  {
   "cell_type": "code",
   "execution_count": 183,
   "id": "52ef0d65",
   "metadata": {},
   "outputs": [],
   "source": [
    "df_1.to_csv(\"query_final_1.csv\")"
   ]
  },
  {
   "cell_type": "code",
   "execution_count": 64,
   "id": "8d716795",
   "metadata": {},
   "outputs": [],
   "source": [
    "df_2 = pd.DataFrame(eval_df_2)\n",
    "\n"
   ]
  },
  {
   "cell_type": "code",
   "execution_count": 65,
   "id": "b661d100",
   "metadata": {},
   "outputs": [],
   "source": [
    "df_2.to_csv(\"query_final_2.csv\")"
   ]
  },
  {
   "cell_type": "code",
   "execution_count": 70,
   "id": "d57e0729",
   "metadata": {},
   "outputs": [],
   "source": [
    "df_3 = pd.DataFrame(eval_df_3)\n"
   ]
  },
  {
   "cell_type": "code",
   "execution_count": 71,
   "id": "dbecdad1",
   "metadata": {},
   "outputs": [],
   "source": [
    "df_3.to_csv(\"query_final_3.csv\")"
   ]
  },
  {
   "cell_type": "code",
   "execution_count": 76,
   "id": "4ca39ebe",
   "metadata": {},
   "outputs": [],
   "source": [
    "df_4 = pd.DataFrame(eval_df_4)\n"
   ]
  },
  {
   "cell_type": "code",
   "execution_count": 77,
   "id": "f9eb8059",
   "metadata": {},
   "outputs": [],
   "source": [
    "df_4.to_csv(\"query_final_4.csv\")"
   ]
  },
  {
   "cell_type": "code",
   "execution_count": 82,
   "id": "a5ba99d6",
   "metadata": {},
   "outputs": [],
   "source": [
    "df_5 = pd.DataFrame(eval_df_5)\n",
    "\n",
    "df_5.to_csv(\"query_final_5.csv\")"
   ]
  },
  {
   "cell_type": "code",
   "execution_count": 12,
   "id": "b2bd49e0",
   "metadata": {},
   "outputs": [],
   "source": [
    "df_6 = pd.DataFrame(eval_df_6)\n",
    "\n",
    "df_6.to_csv(\"query_final_6.csv\")\n"
   ]
  },
  {
   "cell_type": "code",
   "execution_count": 92,
   "id": "15d69a91",
   "metadata": {},
   "outputs": [],
   "source": [
    "df_7 = pd.DataFrame(eval_df_7)\n",
    "\n",
    "df_7.to_csv(\"query_final_7.csv\")\n"
   ]
  },
  {
   "cell_type": "code",
   "execution_count": 97,
   "id": "9d02d660",
   "metadata": {},
   "outputs": [],
   "source": [
    "df_8 = pd.DataFrame(eval_df_8)\n",
    "\n",
    "df_8.to_csv(\"query_final_8.csv\")\n"
   ]
  },
  {
   "cell_type": "code",
   "execution_count": 114,
   "id": "bbbba037",
   "metadata": {},
   "outputs": [],
   "source": [
    "df_9 = pd.DataFrame(eval_df_9)\n",
    "\n",
    "df_9.to_csv(\"query_final_9.csv\")\n"
   ]
  },
  {
   "cell_type": "code",
   "execution_count": 119,
   "id": "2f2fb4e6",
   "metadata": {},
   "outputs": [],
   "source": [
    "df_10 = pd.DataFrame(eval_df_10)\n",
    "\n",
    "df_10.to_csv(\"query_final_10.csv\")\n"
   ]
  },
  {
   "cell_type": "code",
   "execution_count": 124,
   "id": "a3f14603",
   "metadata": {},
   "outputs": [],
   "source": [
    "df_11 = pd.DataFrame(eval_df_11)\n",
    "\n",
    "df_11.to_csv(\"query_final_11.csv\")\n"
   ]
  },
  {
   "cell_type": "code",
   "execution_count": 129,
   "id": "e88beb7a",
   "metadata": {},
   "outputs": [],
   "source": [
    "df_12 = pd.DataFrame(eval_df_12)\n",
    "\n",
    "df_12.to_csv(\"query_final_12.csv\")\n"
   ]
  },
  {
   "cell_type": "code",
   "execution_count": 134,
   "id": "cd486f89",
   "metadata": {},
   "outputs": [],
   "source": [
    "df_13 = pd.DataFrame(eval_df_13)\n",
    "\n",
    "df_13.to_csv(\"query_final_13.csv\")\n"
   ]
  },
  {
   "cell_type": "code",
   "execution_count": 139,
   "id": "f663e5cc",
   "metadata": {},
   "outputs": [],
   "source": [
    "df_14 = pd.DataFrame(eval_df_14)\n",
    "\n",
    "df_14.to_csv(\"query_final_14.csv\")\n"
   ]
  },
  {
   "cell_type": "code",
   "execution_count": 146,
   "id": "885db134",
   "metadata": {},
   "outputs": [],
   "source": [
    "df_15 = pd.DataFrame(eval_df_15)\n",
    "\n",
    "df_15.to_csv(\"query_final_15.csv\")\n"
   ]
  },
  {
   "cell_type": "code",
   "execution_count": 151,
   "id": "aa82f0f3",
   "metadata": {},
   "outputs": [],
   "source": [
    "df_16 = pd.DataFrame(eval_df_16)\n",
    "\n",
    "df_16.to_csv(\"query_final_16.csv\")\n"
   ]
  },
  {
   "cell_type": "code",
   "execution_count": 156,
   "id": "b068f5d8",
   "metadata": {},
   "outputs": [],
   "source": [
    "df_17 = pd.DataFrame(eval_df_17)\n",
    "\n",
    "df_17.to_csv(\"query_final_17.csv\")\n"
   ]
  },
  {
   "cell_type": "code",
   "execution_count": 163,
   "id": "0c8db5c9",
   "metadata": {},
   "outputs": [],
   "source": [
    "df_18 = pd.DataFrame(eval_df_18)\n",
    "\n",
    "df_18.to_csv(\"query_final_18.csv\")\n"
   ]
  },
  {
   "cell_type": "code",
   "execution_count": 170,
   "id": "d4b6a4c0",
   "metadata": {},
   "outputs": [],
   "source": [
    "df_19 = pd.DataFrame(eval_df_19)\n",
    "\n",
    "df_19.to_csv(\"query_final_19.csv\")\n"
   ]
  },
  {
   "cell_type": "code",
   "execution_count": 176,
   "id": "e82673c4",
   "metadata": {},
   "outputs": [],
   "source": [
    "df_20 = pd.DataFrame(eval_df_20)\n",
    "\n",
    "df_20.to_csv(\"query_final_20.csv\")"
   ]
  }
 ],
 "metadata": {
  "kernelspec": {
   "display_name": "standard",
   "language": "python",
   "name": "python3"
  },
  "language_info": {
   "codemirror_mode": {
    "name": "ipython",
    "version": 3
   },
   "file_extension": ".py",
   "mimetype": "text/x-python",
   "name": "python",
   "nbconvert_exporter": "python",
   "pygments_lexer": "ipython3",
   "version": "3.12.9"
  }
 },
 "nbformat": 4,
 "nbformat_minor": 5
}
